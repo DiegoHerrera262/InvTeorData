{
 "cells": [
  {
   "cell_type": "markdown",
   "metadata": {},
   "source": [
    "# Data Processing Of MCMC Simulation Data from Binary Alloy\n",
    "\n",
    "The main objective of this notebook is to document and illustrate all data analysis for determination of critical temperatures and graphics generation for my Theoretical Investigations Project. I have already determined mean field critical curves for the BEG model, and in this notebook I set out to:\n",
    "\n",
    "1. Produce Order Parameter profiles for several values of vancy and atom chemical potential difference.\n",
    "1. Compute critical temperatures for several Lattice sizes and vacancy - atom chemical potential difference.\n",
    "1. Use finite size scaling to determine a set of critical points in $h - T$ phase space projection.\n",
    "\n",
    "**Note:** During the development of this phase of the project, I updated my PC to MacOs Big Sur. This had the unexpected effect of slowing python scripts. As a result, I resorted to using an Azure server with 2 vcpus and 8GB of RAM. Most of the data used in this project was generated on that server. It took about 2 weeks of computation to generate order parameter data for all lattice sizes. I had parallelised routines to fasten computation of magnetisation profiles, they were pointless on my Azure server since it has only 2 vcpus."
   ]
  },
  {
   "cell_type": "code",
   "execution_count": 121,
   "metadata": {},
   "outputs": [],
   "source": [
    "# Do you have a latex distro on your PC?\n",
    "latex_in_my_pc = True"
   ]
  },
  {
   "cell_type": "code",
   "execution_count": 117,
   "metadata": {},
   "outputs": [],
   "source": [
    "# Imports for clarity\n",
    "import numpy as np\n",
    "import random as rd\n",
    "import matplotlib.pyplot as plt\n",
    "import matplotlib.animation as animation\n",
    "import time\n",
    "from scipy.optimize import curve_fit\n",
    "from scipy.stats import linregress\n",
    "import pandas as pd\n",
    "# Import of the module I wrote for MCMC Simulation\n",
    "import IsingModel as Alloy\n",
    "if latex_in_my_pc:\n",
    "    plt.style.use('FigureStyle/PaperStyle.mplstyle')"
   ]
  },
  {
   "cell_type": "markdown",
   "metadata": {},
   "source": [
    "## Order Parameter Profiles for Different Lattice Sizes and Chemical Potential Differences\n",
    "\n",
    "Remember that the sampled Hamiltonian corresponds to a ferromagnetic BEG Model, on a centered rectangular lattice, with a non-zero quadrtupolar anisotropy term, in the presence of an staggered external magnetic field:\n",
    "\n",
    "$$H = -\\frac{J}{2} \\sum\\limits_{\\langle i_{A_2}, j_{B_2}\\rangle} S_{i_{A_2}} S_{j_{B_2}} + \\mu\\sum\\limits_{i} S_i^2 + h\\sum\\limits_{i_B} S_{i_B} - h\\sum\\limits_{i_A} S_{i_A}$$\n",
    "\n",
    "I used conventional MCMC (Markov Chain Monte Carlo) to sample the Gibbs-Boltzman distribution corresponding to this system. Just to remember, the system under study is a bipartite, substitutional, non-stoichiometric, binary alloy. I used MCMC techniques to compute equilibrium values of order parameter:\n",
    "\n",
    "$$m = \\langle S_{i_{A_2}} \\rangle + \\langle S_{i_{B_2}}\\rangle$$\n",
    "\n",
    "I know that order parameter profile depends not only on temperature, but also on lattice size. Therefore, I computed several datasets corresponding to different values of $\\mu$, $h$, temperature ($T$) and lattice size ($L$). I normalised unit energies so that $J = 1$, and units of entropy so that Boltzman's constant, $k_B = 1$.\n",
    "\n",
    "Each dataset corresponds to magnetisation for 30 equaly spaced temperatures between $T_{\\text{min}}=0.05$ and $T_{\\text{max}} = 3.5$. I computed magnetisation profiles for values $\\mu = 0.0, -1.7$ and $h = 0.0, 0.1, 0.3, 0.5$. Datasets correpsonds to lattice sizes $L = 8, 16, 32, 55$. The dataset files are saved as csv, and the names are **AltL_Mags_mu_h.csv**, in accordance to the following convention:\n",
    "\n",
    "| Index | $L$ | $\\mu$ | $h$ |\n",
    "|:-----:|:---:|:-----:|:---:|\n",
    "|  $0$  | $55$|  $0$  |$0.0$|\n",
    "|  $1$  | $8$ | $-1.7$|$0.1$|\n",
    "|  $2$  | $16$|   -   |$0.3$|\n",
    "|  $3$  | $32$|   -   |$0.5$|\n",
    "|  $4$  | $11$|   -   |  -  |\n",
    "\n",
    "**Important:** MCMC Simulations consisted on 15000 steps, with 5000 spare steps."
   ]
  },
  {
   "cell_type": "code",
   "execution_count": 125,
   "metadata": {},
   "outputs": [],
   "source": [
    "# Define keys for plotting\n",
    "Lkey = [55,8,16,32,11]\n",
    "Mukey = [0.0,-1.7]\n",
    "hkey = [0.0,0.1,0.3,0.5]"
   ]
  },
  {
   "cell_type": "code",
   "execution_count": 189,
   "metadata": {},
   "outputs": [],
   "source": [
    "# Read all data files corresponding to indexes following table above and store data for plotting\n",
    "Muidx = '1'\n",
    "hidx = '3'\n",
    "save_ = True"
   ]
  },
  {
   "cell_type": "code",
   "execution_count": 190,
   "metadata": {},
   "outputs": [
    {
     "data": {
      "image/png": "[encoded data removed]",
      "text/plain": [
       "<Figure size 432x288 with 1 Axes>"
      ]
     },
     "metadata": {
      "needs_background": "light"
     },
     "output_type": "display_data"
    }
   ],
   "source": [
    "for i in range(5):\n",
    "    # Reading with pandas\n",
    "    filepath = 'Data/Alt'+str(i)+'_'+'Mags_'+Muidx+'_'+hidx+'.csv'\n",
    "    dataset = pd.read_csv(filepath)\n",
    "    # Generate scatter plot\n",
    "    plt.scatter(dataset['Temps'],dataset['Mags'],label=r'$L=$'+str(Lkey[i]))\n",
    "plt.xlabel(r'$k_BT/J$')\n",
    "plt.ylabel(r'$\\langle |M| \\rangle$')\n",
    "plt.title(r'Order Parameter Profile: '+r'$\\mu=$ '+str(Mukey[int(Muidx)])+r', $h=$ '+str(hkey[int(hidx)]))\n",
    "plt.legend()\n",
    "if save_:\n",
    "    plt.savefig('Figures/'+'MagsProf_'+Muidx+'_'+hidx+'.pdf')\n",
    "    plt.savefig('Figures/'+'MagsProf_'+Muidx+'_'+hidx+'.png')\n",
    "plt.show()"
   ]
  },
  {
   "cell_type": "markdown",
   "metadata": {},
   "source": [
    "In the above cell, a quick overview of the datasets simulated via MCMC can be obtained. A quite unexpected magnetisation profile was obtained when $h > 0$. Although the curve seems to have a critical point, lattice size does not seem to affect the equilibrium magnetisation. This is rather weird, since at a critical point, correlation length diverges, and the finitness of the system should affect the magnetisation profile. As is evident from the Hamiltonian, the value of $\\mu$, which is related to vacancy concentration, is not resposible for this behavior. The presence of a non-zero staggered field causes a a non-zero order parameter even at high temperatures. This is readily seen from a magnetic interpretation of the interaction Hamiltonian. Also, remembering that the order parameter is also related to atom concentration difference, this can be intuited.\n",
    "\n",
    "**Conjecture:** It might be possible that for high staggered field magnitude, this phenomenon competes strongly with the inherent lattice site correlation, thus diminishing significantly the dependence of the order parameter profile with lattice size."
   ]
  },
  {
   "cell_type": "markdown",
   "metadata": {},
   "source": [
    "## Computation of critical temperatures\n",
    "\n",
    "I compute critical temperatures by interpolating order parameter data, and computing the inflection point. Although my simulations showed rather strange profiles for non stoichiometric alloys, the still present an inflection point, which I will use to estimate critical temperature. I will, however, use finte size scaling to determine the actual critical temperature of a stoichiometric binary alloy for the values of $\\mu$ considered."
   ]
  },
  {
   "cell_type": "markdown",
   "metadata": {},
   "source": [
    "### Data Interoplation\n",
    "\n",
    "I chose the function\n",
    "\n",
    "$$f(x) = A \\tanh(C-Dx)+B$$\n",
    "\n",
    "To interpolate the order parameter data. Although this function might not be the best for this purpose, it allows easy estimation of critical temperature as\n",
    "\n",
    "$$T_C(L) = \\frac{C}{D}$$\n",
    "\n",
    "In the next cell, I plot inverse critical temperature as funciton of inverse lattice size following Ibarra and others' work.\n",
    "\n",
    "**Important:** Spin-1 Ising Models do not have a closed form for order parameter as function of temperature, like Onsager's solution to the Spin-1/2 Ising model on 2 dimensions. Ibarra proposes a fit of the type\n",
    "\n",
    "$$m = \\bigg[A - B \\bigg(\\sinh\\bigg(\\frac{2}{T}\\bigg)\\bigg)^{-4}\\bigg]^C$$\n",
    "\n",
    "But this is valid only for temperatures below $T_C$, which I want to find. Therefore, it is not a very good option for fitting the data."
   ]
  },
  {
   "cell_type": "code",
   "execution_count": 20,
   "metadata": {},
   "outputs": [],
   "source": [
    "# Interpolation Function\n",
    "def magsFit(x,A,B,C,D):\n",
    "    return A*np.tanh(C-D*x)+B"
   ]
  },
  {
   "cell_type": "code",
   "execution_count": 151,
   "metadata": {},
   "outputs": [],
   "source": [
    "# Indexes for reading data\n",
    "Muidx = '0'\n",
    "hidx = '3'\n",
    "Lidx = '3'\n",
    "# Tag to tell program if saving plots\n",
    "save_ = False"
   ]
  },
  {
   "cell_type": "code",
   "execution_count": 153,
   "metadata": {},
   "outputs": [
    {
     "data": {
      "image/png": "[encoded data removed]",
      "text/plain": [
       "<Figure size 432x288 with 1 Axes>"
      ]
     },
     "metadata": {
      "needs_background": "light"
     },
     "output_type": "display_data"
    }
   ],
   "source": [
    "# Reading with pandas\n",
    "filepath = 'Data/Alt'+Lidx+'_'+'Mags_'+Muidx+'_'+hidx+'.csv'\n",
    "dataset = pd.read_csv(filepath)\n",
    "# Interpolate using scipy\n",
    "fitparams, covmat = curve_fit(\\\n",
    "        magsFit,dataset['Temps'],dataset['Mags'],\\\n",
    "        bounds=(0,[50.0,50.0,50.0,50.0]))\n",
    "# Plot Interpolation and dataset\n",
    "x = np.linspace(0.05,3.5,num=300)\n",
    "y = magsFit(x,*fitparams)\n",
    "plt.scatter(dataset['Temps'],dataset['Mags'],label=r'$L=$ '+str(Lkey[int(Lidx)]))\n",
    "plt.plot(x,y,color='r')\n",
    "plt.xlabel(r'$k_BT/J$')\n",
    "plt.ylabel(r'$\\langle |M| \\rangle$')\n",
    "plt.title(\\\n",
    "    r'Order Parameter Fitting'+'\\n'+r'$\\mu = $ '+str(Mukey[int(Muidx)])+' , '+r'$h = $ '+str(hkey[int(hidx)]))\n",
    "plt.legend()\n",
    "if save_:\n",
    "    plt.savefig('Figures/'+'Fit'+Lidx+'_'+Muidx+'_'+hidx+'.pdf')\n",
    "    plt.savefig('Figures/'+'Fit'+Lidx+'_'+Muidx+'_'+hidx+'.png')\n",
    "plt.show()"
   ]
  },
  {
   "cell_type": "markdown",
   "metadata": {},
   "source": [
    "### Finite Size Scaling\n",
    "\n",
    "Although the non linear fit is not the best, specially for stoichiometric alloys, I believe this is the best way I can find to compromise MCMC simualtion time and precision in critical temperature computation. More in depht calculations should require use of reweighting techniques, and several dataset evaluations in order to compute mean order parameter profiles with appropriate error bars. However, due to time constraints, and a miscalculation of the time required for the analytical component of this project, I use this procedure to estimate critical temperature for an inifinite lattice."
   ]
  },
  {
   "cell_type": "code",
   "execution_count": 207,
   "metadata": {},
   "outputs": [],
   "source": [
    "# Fix fields values\n",
    "Muidx = '1'\n",
    "hidx = '3'\n",
    "# Tag to tell program if saving plots\n",
    "save_ = True"
   ]
  },
  {
   "cell_type": "code",
   "execution_count": 208,
   "metadata": {},
   "outputs": [
    {
     "data": {
      "image/png": "[encoded data removed]",
      "text/plain": [
       "<Figure size 432x288 with 1 Axes>"
      ]
     },
     "metadata": {
      "needs_background": "light"
     },
     "output_type": "display_data"
    },
    {
     "name": "stdout",
     "output_type": "stream",
     "text": [
      "T_c =  1.8442192457749043\n"
     ]
    }
   ],
   "source": [
    "Tcs = [0,0,0,0,0]\n",
    "# Reading with pandas\n",
    "for Lidx in range(5):\n",
    "    filepath = 'Data/Alt'+str(Lidx)+'_'+'Mags_'+Muidx+'_'+hidx+'.csv'\n",
    "    dataset = pd.read_csv(filepath)\n",
    "    # Eliminate first point since it was an outsider for L = 32\n",
    "    m = dataset['Mags'][1:]\n",
    "    T = dataset['Temps'][1:]\n",
    "    # Interpolate using scipy\n",
    "    fitparams, covmat = curve_fit(\\\n",
    "        magsFit,T,m,\\\n",
    "        bounds=(0,[50.0,50.0,50.0,50.0]))\n",
    "    # Compute critical temperature\n",
    "    Tcs[Lidx] = fitparams[2]/fitparams[3]\n",
    "\n",
    "# Perform linear fit to find critical temperature\n",
    "Bc = 1/np.array(Tcs)\n",
    "Linv = 1/np.array(Lkey)\n",
    "slope, intercept, _, _, _ = linregress(Linv,Bc)\n",
    "Lsint = np.linspace(0.01,0.13,num=200)\n",
    "Bcint = slope*Lsint + intercept\n",
    "\n",
    "# Plot Critical Temperatures \n",
    "plt.scatter(Linv,Bc)\n",
    "plt.plot(Lsint,Bcint,color='r')\n",
    "plt.xlabel(r'$L^{-1}$')\n",
    "plt.ylabel(r'$T_C^{-1}$')\n",
    "plt.text(0.06,np.amax(Bc),r'$T_C = $'+'{:.2f}'.format(1/intercept))\n",
    "plt.title(r'Finite Size scaling'+'\\n'+r'$\\mu = $ '+str(Mukey[int(Muidx)])+' , '+r'$h = $ '+str(hkey[int(hidx)]))\n",
    "if save_:\n",
    "    plt.savefig('Figures/'+'FiniteSize_'+Muidx+'_'+hidx+'.pdf')\n",
    "    plt.savefig('Figures/'+'FiniteSize_'+Muidx+'_'+hidx+'.png')\n",
    "plt.show()\n",
    "print(r'T_c = ',1/intercept)"
   ]
  },
  {
   "cell_type": "markdown",
   "metadata": {},
   "source": [
    "As can be seen in the cell above, the finite size sacling technique proposed by Ibarra siuts quite good the critical temperature dependance on lattice size. The linear fit, however is not particularly good for stoichiometric alloys, but this might be doue to the fact that the non linear fit of magnetisation profile is not particularly good for these datasets (*go to Data Interpolation*). I thus proceed to compute a table with all critical temperature data, for different values of external fields."
   ]
  },
  {
   "cell_type": "code",
   "execution_count": 155,
   "metadata": {},
   "outputs": [],
   "source": [
    "def Tcrit(muidx,hidx):\n",
    "    Tcs = [0,0,0,0,0]\n",
    "    # Reading with pandas\n",
    "    for Lidx in range(5):\n",
    "        filepath = 'Data/Alt'+str(Lidx)+'_'+'Mags_'+Muidx+'_'+hidx+'.csv'\n",
    "        dataset = pd.read_csv(filepath)\n",
    "        # Eliminate first point since it was an outsider for L = 32\n",
    "        m = dataset['Mags'][1:]\n",
    "        T = dataset['Temps'][1:]\n",
    "        # Interpolate using scipy\n",
    "        fitparams, covmat = curve_fit(\\\n",
    "            magsFit,T,m,\\\n",
    "            bounds=(0,[50.0,50.0,50.0,50.0]))\n",
    "        # Compute critical temperature\n",
    "        Tcs[Lidx] = fitparams[2]/fitparams[3]\n",
    "\n",
    "    # Perform linear fit to find critical temperature\n",
    "    Bc = 1/np.array(Tcs)\n",
    "    Linv = 1/np.array(Lkey)\n",
    "    slope, intercept, _, _, _ = linregress(Linv,Bc)\n",
    "    return 1/intercept    "
   ]
  },
  {
   "cell_type": "code",
   "execution_count": 172,
   "metadata": {},
   "outputs": [],
   "source": [
    "Muidx = '0'\n",
    "save_ = False"
   ]
  },
  {
   "cell_type": "code",
   "execution_count": 173,
   "metadata": {},
   "outputs": [
    {
     "data": {
      "text/html": [
       "<div>\n",
       "<style scoped>\n",
       "    .dataframe tbody tr th:only-of-type {\n",
       "        vertical-align: middle;\n",
       "    }\n",
       "\n",
       "    .dataframe tbody tr th {\n",
       "        vertical-align: top;\n",
       "    }\n",
       "\n",
       "    .dataframe thead th {\n",
       "        text-align: right;\n",
       "    }\n",
       "</style>\n",
       "<table border=\"1\" class=\"dataframe\">\n",
       "  <thead>\n",
       "    <tr style=\"text-align: right;\">\n",
       "      <th></th>\n",
       "      <th>h</th>\n",
       "      <th>Tcrit</th>\n",
       "    </tr>\n",
       "  </thead>\n",
       "  <tbody>\n",
       "    <tr>\n",
       "      <th>0</th>\n",
       "      <td>0.0</td>\n",
       "      <td>0.808997</td>\n",
       "    </tr>\n",
       "    <tr>\n",
       "      <th>1</th>\n",
       "      <td>0.1</td>\n",
       "      <td>1.083204</td>\n",
       "    </tr>\n",
       "    <tr>\n",
       "      <th>2</th>\n",
       "      <td>0.3</td>\n",
       "      <td>1.317169</td>\n",
       "    </tr>\n",
       "    <tr>\n",
       "      <th>3</th>\n",
       "      <td>0.5</td>\n",
       "      <td>1.495747</td>\n",
       "    </tr>\n",
       "  </tbody>\n",
       "</table>\n",
       "</div>"
      ],
      "text/plain": [
       "     h     Tcrit\n",
       "0  0.0  0.808997\n",
       "1  0.1  1.083204\n",
       "2  0.3  1.317169\n",
       "3  0.5  1.495747"
      ]
     },
     "metadata": {},
     "output_type": "display_data"
    }
   ],
   "source": [
    "Ts = []\n",
    "h = []\n",
    "# Compute critical temperatures\n",
    "for hidx in ['0','1','2','3']:\n",
    "    h.append(hkey[int(hidx)])\n",
    "    Ts.append(Tcrit(Muidx,hidx))\n",
    "# Create dictionary previous to dataframe\n",
    "data = {\n",
    "    'h':h,\n",
    "    'Tcrit':Ts\n",
    "       }\n",
    "# Create dataframe\n",
    "data = pd.DataFrame.from_dict(data)\n",
    "if save_:\n",
    "    filepath = 'Data/CritTemps'+Muidx+'.csv'\n",
    "    data.to_csv(filepath,index=False,header=True)\n",
    "# Display Critical temperatures\n",
    "display(data)"
   ]
  },
  {
   "cell_type": "markdown",
   "metadata": {},
   "source": [
    "## Final Results\n",
    "\n",
    "After performing linear regressions from finite size scaling, I obtained the following critical temperatures for $\\mu = 0$:\n",
    "\n",
    "| $h$ | $T_C$ |\n",
    "|:---:|:-----:|\n",
    "|$0.0$|$0.809$|\n",
    "|$0.1$|$1.083$|\n",
    "|$0.3$|$1.317$|\n",
    "|$0.5$|$1.496$|\n",
    "\n",
    "And the following for $\\mu = -1.7$\n",
    "\n",
    "| $h$ | $T_C$ |\n",
    "|:---:|:-----:|\n",
    "|$0.0$|$1.044$|\n",
    "|$0.1$|$1.362$|\n",
    "|$0.3$|$1.644$|\n",
    "|$0.5$|$1.844$|\n",
    "\n",
    "These are astonishing results that were not expected from mean field calculations."
   ]
  }
 ],
 "metadata": {
  "kernelspec": {
   "display_name": "Python 3",
   "language": "python",
   "name": "python3"
  },
  "language_info": {
   "codemirror_mode": {
    "name": "ipython",
    "version": 3
   },
   "file_extension": ".py",
   "mimetype": "text/x-python",
   "name": "python",
   "nbconvert_exporter": "python",
   "pygments_lexer": "ipython3",
   "version": "3.8.3"
  }
 },
 "nbformat": 4,
 "nbformat_minor": 4
}
