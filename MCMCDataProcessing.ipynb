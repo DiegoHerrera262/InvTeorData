{
 "cells": [
  {
   "cell_type": "markdown",
   "metadata": {},
   "source": [
    "# Data Processing Of MCMC Simulation Data from Binary Alloy\n",
    "\n",
    "The main objective of this notebook is to document and illustrate all data analysis for determination of critical temperatures and graphics generation for my Theoretical Investigations Project. I have already determined mean field critical curves for the BEG model, and in this notebook I set out to:\n",
    "\n",
    "1. Produce Order Parameter profiles for several values of vancy and atom chemical potential difference.\n",
    "1. Compute critical temperatures for several Lattice sizes and vacancy - atom chemical potential difference.\n",
    "1. Use finite size scaling to determine a set of critical points in $h - T$ phase space projection."
   ]
  },
  {
   "cell_type": "code",
   "execution_count": 1,
   "metadata": {},
   "outputs": [],
   "source": [
    "# Imports for clarity\n",
    "import numpy as np\n",
    "import random as rd\n",
    "import matplotlib.pyplot as plt\n",
    "import matplotlib.animation as animation\n",
    "import time\n",
    "from scipy.optimize import curve_fit\n",
    "import pandas as pd\n",
    "# Import of the module I wrote for MCMC Simulation\n",
    "import IsingModel as Alloy\n",
    "plt.style.use('FigureStyle/PaperStyle.mplstyle')"
   ]
  },
  {
   "cell_type": "markdown",
   "metadata": {},
   "source": [
    "## Order Parameter Profiles for Different Lattice Sizes and Chemical Potential Differences\n",
    "\n",
    "Remember that the sampled Hamiltonian corresponds to a ferromagnetic BEG Model, on a centered rectangular lattice, with a non-zero quadrtupolar anisotropy term, in the presence of an staggered external magnetic field:\n",
    "\n",
    "$$H = -\\frac{J}{2} \\sum\\limits_{\\langle i_{A_2}, j_{B_2}\\rangle} S_{i_{A_2}} S_{j_{B_2}} + \\mu\\sum\\limits_{i} S_i^2 + h\\sum\\limits_{i_B} S_{i_B} - h\\sum\\limits_{i_A} S_{i_A}$$\n",
    "\n",
    "I used conventional MCMC (Markov Chain Monte Carlo) to sample the Gibbs-Boltzman distribution corresponding to this system. Just to remember, the system under study is a bipartite, substitutional, non-stoichiometric, binary alloy. I used MCMC techniques to compute equilibrium values of order parameter:\n",
    "\n",
    "$$m = \\langle S_{i_{A_2}} \\rangle + \\langle S_{i_{B_2}}\\rangle$$\n",
    "\n",
    "I know that order parameter profile depends not only on temperature, but also on lattice size. Therefore, I computed several datasets corresponding to different values of $\\mu$, $h$, temperature ($T$) and lattice size ($L$). I normalised unit energies so that $J = 1$, and units of entropy so that Boltzman's constant, $k_B = 1$.\n",
    "\n",
    "Each dataset corresponds to magnetisation for 30 equaly spaced temperatures between $T_{\\text{min}}=0.05$ and $T_{\\text{max}} = 3.5$. I computed magnetisation profiles for values $\\mu = 0.0, -1.7$ and $h = 0.0, 0.1, 0.3, 0.5$. Datasets correpsonds to lattice sizes $L = 8, 16, 32, 55$. The dataset files are saved as csv, and the names are **AltL_Mags_mu_h.csv**, in accordance to the following convention:\n",
    "\n",
    "| Index | $L$ | $\\mu$ | $h$ |\n",
    "|:-----:|:---:|:-----:|:---:|\n",
    "|  $0$  | $55$|  $0$  |$0.0$|\n",
    "|  $1$  | $8$ | $-1.7$|$0.1$|\n",
    "|  $2$  | $16$|   -   |$0.3$|\n",
    "|  $3$  | $32$|   -   |$0.5$|\n",
    "\n",
    "**Important:** MCMC Simulations consisted on 15000 steps, with 5000 spare steps."
   ]
  },
  {
   "cell_type": "code",
   "execution_count": 2,
   "metadata": {},
   "outputs": [],
   "source": [
    "# Define keys for plotting\n",
    "Lkey = [55,8,16,32]\n",
    "Mukey = [0,-1.7]\n",
    "hkey = [0.0,0.1,0.3,0.5]"
   ]
  },
  {
   "cell_type": "code",
   "execution_count": 39,
   "metadata": {},
   "outputs": [
    {
     "data": {
      "image/png": "[encoded data removed]",
      "text/plain": [
       "<Figure size 432x288 with 1 Axes>"
      ]
     },
     "metadata": {
      "needs_background": "light"
     },
     "output_type": "display_data"
    }
   ],
   "source": [
    "# Read all data files corresponding to indexes following table above and store data for plotting\n",
    "Muidx = '0'\n",
    "hidx = '0'\n",
    "save_ = False \n",
    "for i in range(4):\n",
    "    # Reading with pandas\n",
    "    filepath = 'Data/Alt'+str(i)+'_'+'Mags_'+Muidx+'_'+hidx+'.csv'\n",
    "    dataset = pd.read_csv(filepath)\n",
    "    # Generate scatter plot\n",
    "    plt.scatter(dataset['Temps'],dataset['Mags'],label=r'$L=$'+str(Lkey[i]))\n",
    "plt.xlabel(r'$k_BT/J$')\n",
    "plt.ylabel(r'$\\langle |M| \\rangle$')\n",
    "plt.title(r'Order Parameter Profile: '+r'$\\mu=$'+str(Mukey[int(Muidx)])+r', $h=$'+str(hkey[int(hidx)]))\n",
    "plt.legend()\n",
    "if save_:\n",
    "    plt.savefig('Figures/'+'MagsProf_'+Muidx+'_'+hidx+'.pdf')\n",
    "    plt.savefig('Figures/'+'MagsProf_'+Muidx+'_'+hidx+'.png')\n",
    "plt.show()"
   ]
  },
  {
   "cell_type": "markdown",
   "metadata": {},
   "source": [
    "In the above cell, a quick overview of the datasets simulated via MCMC can be obtained. A quite unexpected magnetisation profile was obtained when $h > 0$. Although the curve seems to have a critical point, lattice size does not seem to affect the equilibrium magnetisation. This is rather weird, since at a critical point, correlation length diverges, and the finitness of the system should affect the magnetisation profile. As is evident from the Hamiltonian, the value of $\\mu$, which is related to vacancy concentration, is not resposible for this behavior. The presence of a non-zero staggered field causes a a non-zero order parameter even at high temperatures. This is readily seen from a magnetic interpretation of the interaction Hamiltonian. Also, remembering that the order parameter is also related to atom concentration difference, this can be intuited.\n",
    "\n",
    "**Conjecture:** It might be possible that for high staggered field magnitude, this phenomenon competes strongly with the inherent lattice site correlation, thus diminishing significantly the dependence of the order parameter profile with lattice size."
   ]
  },
  {
   "cell_type": "markdown",
   "metadata": {},
   "source": [
    "## Computation of critical temperatures\n",
    "\n",
    "I compute critical temperatures by interpolating order parameter data, and computing the inflection point. Although my simulations showed rather strange profiles for non stoichiometric alloys, the still present an inflection point, which I will use to estimate critical temperature. I will, however, use finte size scaling to determine the actual critical temperature of a stoichiometric binary alloy for the values of $\\mu$ considered."
   ]
  },
  {
   "cell_type": "code",
   "execution_count": 53,
   "metadata": {},
   "outputs": [],
   "source": [
    "# Interpolation Function\n",
    "def magsFit(x,A,B,C,D):\n",
    "    return D*np.tanh(A-B*x)+C"
   ]
  },
  {
   "cell_type": "code",
   "execution_count": 62,
   "metadata": {},
   "outputs": [
    {
     "data": {
      "image/png": "[encoded data removed]",
      "text/plain": [
       "<Figure size 432x288 with 1 Axes>"
      ]
     },
     "metadata": {
      "needs_background": "light"
     },
     "output_type": "display_data"
    }
   ],
   "source": [
    "# Read dataset\n",
    "Muidx = '0'\n",
    "hidx = '0'\n",
    "Lidx = '0'\n",
    "# Reading with pandas\n",
    "filepath = 'Data/Alt'+Lidx+'_'+'Mags_'+Muidx+'_'+hidx+'.csv'\n",
    "dataset = pd.read_csv(filepath)\n",
    "# Interpolate using scipy\n",
    "fitparams, covmat = curve_fit(\\\n",
    "        MagsFit,dataset['Temps'],dataset['Mags'],\\\n",
    "        bounds=(0,[50.0,50.0,50.0,50.0]))\n",
    "# Plot Interpolation and dataset\n",
    "x = np.linspace(0.05,3.5,num=300)\n",
    "y = magsFit(x,*fitparams)\n",
    "plt.scatter(dataset['Temps'],dataset['Mags'])\n",
    "plt.plot(x,y)\n",
    "plt.xlabel(r'$k_BT/Jz$')\n",
    "plt.ylabel(r'$\\langle |M| \\rangle$')\n",
    "plt.show()"
   ]
  },
  {
   "cell_type": "code",
   "execution_count": 56,
   "metadata": {},
   "outputs": [
    {
     "name": "stdout",
     "output_type": "stream",
     "text": [
      "[13.00379215 15.88291385  0.49914826  0.48450023]\n"
     ]
    }
   ],
   "source": [
    "print(fitparams)"
   ]
  },
  {
   "cell_type": "code",
   "execution_count": null,
   "metadata": {},
   "outputs": [],
   "source": []
  }
 ],
 "metadata": {
  "kernelspec": {
   "display_name": "Python 3",
   "language": "python",
   "name": "python3"
  },
  "language_info": {
   "codemirror_mode": {
    "name": "ipython",
    "version": 3
   },
   "file_extension": ".py",
   "mimetype": "text/x-python",
   "name": "python",
   "nbconvert_exporter": "python",
   "pygments_lexer": "ipython3",
   "version": "3.8.3"
  }
 },
 "nbformat": 4,
 "nbformat_minor": 4
}
