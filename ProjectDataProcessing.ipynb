{
 "cells": [
  {
   "cell_type": "markdown",
   "metadata": {},
   "source": [
    "# Mean Filed Approximation for BEG Model for a Nonstoichiometric Binary Alloy with Vacancies\n",
    "\n",
    "I will consider the analytical calculations concerning **mean field approximation** for a simple ferromagnetic Blume - Capel model with a staggered external magnetic field, in a bipartite lattice with coordination number $z$:\n",
    "\n",
    "$$H = -\\frac{J}{2}\\sum_{\\langle i_A, j_B \\rangle} S_i S_j + \\frac{K}{2}\\sum_{\\langle i_A, j_B\\rangle} S_i^2 S_j^2 + \\mu \\sum_{i} S_i^2 + h \\sum_{i_A} S_i - h \\sum_{i_B} S_i$$\n",
    "\n",
    "Where $A$ and $B$ are the two neighbouring sublattices on the general lattice structure, containing $N$ sites. \n",
    "\n",
    "**Important**: The limit $\\mu \\rightarrow -\\infty$ corresponds to zero vacancy concentration. The limit $h = 0$ corresponds to a stoichiometric lattice. Both limits are equivalent to a simple Ferromagnetic Ising Model.\n",
    "\n",
    "## GBF Variational Method for Mean Field Approximations\n",
    "\n",
    "The procedure is fairly straightforward. I used variational Hamiltonian:\n",
    "\n",
    "$$\\hat{H} = - \\gamma_A \\sum_{i_A}^{N/2} S_i + \\alpha_A \\sum_{i_A}^{N/2} S_i^2 - \\gamma_B \\sum_{i_B}^{N/2} S_i + \\alpha_B \\sum_{i_B}^{N/2} S_i^2$$\n",
    "\n",
    "Computed variational estimation of free energy at inverse temperature $\\beta$:\n",
    "\n",
    "$$\\frac{\\hat{F}}{N} = \\langle S_{i_A} \\rangle\\bigg[\\frac{\\gamma_A}{2} - \\frac{Jz}{4} \\langle S_{i_B} \\rangle - \\frac{h}{2}\\bigg] + \\langle S_{i_B} \\rangle\\bigg[\\frac{\\gamma_B}{2} - \\frac{Jz}{4} \\langle S_{i_A} \\rangle + \\frac{h}{2}\\bigg] + \\langle S_{i_A}^2 \\rangle\\bigg[-\\frac{\\alpha_A}{2} + \\frac{Kz}{4} \\langle S_{i_B}^2 \\rangle + \\frac{\\mu}{2}\\bigg] + \\langle S_{i_B}^2 \\rangle\\bigg[-\\frac{\\alpha_B}{2} + \\frac{Kz}{4} \\langle S_{i_A}^2 \\rangle + \\frac{\\mu}{2}\\bigg] \\\\- \\frac{1}{2\\beta} \\ln(Z_A) - \\frac{1}{2\\beta} \\ln(Z_B)$$\n",
    "\n",
    "Where the sublattice one-site partition functions are defined\n",
    "\n",
    "$$Z_A = 1 + 2\\mathrm{e}^{-\\beta \\alpha_A}\\cosh(\\beta \\gamma_A)$$\n",
    "$$Z_B = 1 + 2\\mathrm{e}^{-\\beta \\alpha_B}\\cosh(\\beta \\gamma_B)$$\n",
    "\n",
    "\n",
    "And expected values can be computed as follows\n",
    "\n",
    "$$\\langle S_{i_A}\\rangle = \\frac{2}{N} \\sum_{i_A} S_i = \\frac{1}{\\beta}\\frac{\\partial}{\\partial \\gamma_A} \\ln(Z_A)$$\n",
    "$$\\langle S_{i_B}\\rangle = \\frac{2}{N} \\sum_{i_B} S_i = \\frac{1}{\\beta}\\frac{\\partial}{\\partial \\gamma_B} \\ln(Z_B)$$\n",
    "$$\\langle S_{i_A}^2\\rangle = \\frac{2}{N} \\sum_{i_A} S_i^2 = -\\frac{1}{\\beta}\\frac{\\partial}{\\partial \\alpha_A} \\ln(Z_A)$$\n",
    "$$\\langle S_{i_B}^2\\rangle = \\frac{2}{N} \\sum_{i_B} S_i^2 = -\\frac{1}{\\beta}\\frac{\\partial}{\\partial \\alpha_B} \\ln(Z_B)$$\n",
    "\n",
    "Minimization of variational free energy with respect to variational parameters lead to:\n",
    "\n",
    "$$\\gamma_A = Jz\\langle S_{i_B}\\rangle + h$$\n",
    "$$\\gamma_B = Jz\\langle S_{i_A}\\rangle - h$$\n",
    "$$\\alpha_A = Kz\\langle S_{i_B}^2\\rangle + \\mu$$\n",
    "$$\\alpha_B = Kz\\langle S_{i_A}^2\\rangle + \\mu$$\n",
    "\n",
    "Defining variables\n",
    "\n",
    "$$m_A = \\langle S_{i_A}\\rangle$$\n",
    "$$m_B = \\langle S_{i_B}\\rangle$$\n",
    "$$q_A = \\langle S_{i_A}^2\\rangle$$\n",
    "$$q_B = \\langle S_{i_B}^2\\rangle$$\n",
    "\n",
    "Which are related to the order parameter of the transition $m = m_A + m_B$, and vacancy concentration $1-x = q_A + q_B$, the following consitency equations are derived\n",
    "\n",
    "$$m_A = \\frac{2 \\sinh(\\beta [Jzm_B + h])}{\\mathrm{e}^{\\beta (Kzq_B + \\mu)} + \\cosh(\\beta [Jzm_B + h])}$$\n",
    "$$q_A = \\frac{2 \\cosh(\\beta [Jzm_B + h])}{\\mathrm{e}^{\\beta (Kzq_B + \\mu)} + \\cosh(\\beta [Jzm_B + h])}$$\n",
    "$$m_B = \\frac{2 \\sinh(\\beta [Jzm_A - h])}{\\mathrm{e}^{\\beta (Kzq_A + \\mu)} + \\cosh(\\beta [Jzm_A - h])}$$\n",
    "$$q_B = \\frac{2 \\cosh(\\beta [Jzm_A - h])}{\\mathrm{e}^{\\beta (Kzq_A + \\mu)} + \\cosh(\\beta [Jzm_A - h])}$$\n",
    "\n",
    "If the vacancy - atom bond interplay is such that $K = 0$, the above stated equations simplify dramatically:\n",
    "\n",
    "$$m_A = \\frac{2 \\sinh(\\beta [Jzm_B + h])}{\\mathrm{e}^{\\beta \\mu} + \\cosh(\\beta [Jzm_B + h])}$$\n",
    "$$q_A = \\frac{2 \\cosh(\\beta [Jzm_B + h])}{\\mathrm{e}^{\\beta \\mu} + \\cosh(\\beta [Jzm_B + h])}$$\n",
    "$$m_B = \\frac{2 \\sinh(\\beta [Jzm_A - h])}{\\mathrm{e}^{\\beta \\mu} + \\cosh(\\beta [Jzm_A - h])}$$\n",
    "$$q_B = \\frac{2 \\cosh(\\beta [Jzm_A - h])}{\\mathrm{e}^{\\beta \\mu} + \\cosh(\\beta [Jzm_A - h])}$$\n",
    "\n",
    "## Redefiniton in Terms of Order Parameter\n",
    "\n",
    "For a more direct interpretaion of the above system, from which only the first two are of practical importance, I change to variables\n",
    "\n",
    "$$m = \\frac{m_A + m_B}{2}$$\n",
    "$$n = \\frac{m_A - m_B}{2}$$\n",
    "\n",
    "Notice that $m$ corresponds exactly to the order parameter of the transitions, and $n$ is directly related to atom concentration. For low vacancy concentration, $n \\approx 2x-1$. Now, the consitency equations may be rewritten\n",
    "\n",
    "$$m + n = f(m-n+h)$$\n",
    "$$m - n = f(m+n-h)$$\n",
    "\n",
    "With the definition\n",
    "\n",
    "$$f(u) = \\frac{2 \\sinh(\\beta u)}{e^{\\beta \\mu} + 2 \\cosh{\\beta u}}$$\n",
    "\n",
    "Notice a trivial set of solutions\n",
    "\n",
    "$$m_0 = 0$$\n",
    "$$n_0 = f(h-n_0)$$\n",
    "\n",
    "In this notebook I set out to\n",
    "\n",
    "1. Solving the Above system numerically to establish the nature of fase transitions in the parameter range $|h| \\leq h_0$, $T \\leq 1/3$\n",
    "\n",
    "2. Generate plots of magnetisation as a function of temperature for seval field values (i.e. difefrent equilibrium concentrations) To determine the nature of phase transitions\n",
    "\n",
    "> Continous Phase transitions imply continous magnetization-temperature profile. Discontinous phase transitions imply discontinous magnetization-temperature profile.\n",
    "\n",
    "**Important**: Analytical calculations have already been performed by hand."
   ]
  },
  {
   "cell_type": "code",
   "execution_count": 1,
   "metadata": {},
   "outputs": [],
   "source": [
    "# Do you have a latex distro on your PC?\n",
    "latex_in_my_pc = True"
   ]
  },
  {
   "cell_type": "code",
   "execution_count": 2,
   "metadata": {},
   "outputs": [],
   "source": [
    "# Imports for clarity\n",
    "import numpy as np\n",
    "import random as rd\n",
    "import matplotlib.pyplot as plt\n",
    "import matplotlib.animation as animation\n",
    "import time\n",
    "from scipy.optimize import fsolve\n",
    "from scipy.optimize import curve_fit\n",
    "from scipy.stats import linregress\n",
    "import pandas as pd\n",
    "# Import of the module I wrote for MCMC Simulation\n",
    "import IsingModel as Alloy\n",
    "if latex_in_my_pc:\n",
    "    plt.style.use('FigureStyle/PaperStyle.mplstyle')"
   ]
  },
  {
   "cell_type": "markdown",
   "metadata": {},
   "source": [
    "## Definition of important parameters\n",
    "\n",
    "### Thermodynamic parameters\n",
    "\n",
    "1. $\\mu$: Related to vacancy-atom chemical potential difference\n",
    "1. $\\beta$: Inverse temperature\n",
    "1. $h$: Related to atom chemical potential difference"
   ]
  },
  {
   "cell_type": "code",
   "execution_count": 3,
   "metadata": {},
   "outputs": [],
   "source": [
    "# Thermodynamic parameters\n",
    "mu = -10.1\n",
    "h = 0.5\n",
    "\n",
    "# Auxiliar functions for numerical solutions\n",
    "\n",
    "def f(x, beta, miu):\n",
    "    '''\n",
    "    Function that appears everywhere on calculations\n",
    "    '''\n",
    "    return 2*np.sinh(beta*x)/(np.exp(beta*miu) + 2*np.cosh(beta*x))\n",
    "\n",
    "\n",
    "def FixedPoint(x,beta,miu):\n",
    "    '''\n",
    "    Function for computing equilibrium atom concentration\n",
    "    '''\n",
    "    return x - f(h-x,beta, miu)\n",
    "\n",
    "def ConsFunc(ms,beta, miu):\n",
    "    '''\n",
    "    Function for numerically solving consistency equations\n",
    "    '''\n",
    "    return [f((ms[0] - ms[1] + h),beta,miu) - (ms[0] + ms[1]), \\\n",
    "            f((ms[0] + ms[1] - h),beta,miu) - (ms[0] - ms[1])]\n",
    "\n",
    "def n0(beta,miu):\n",
    "    '''\n",
    "    Auxiliar functions for numerical solutions\n",
    "    '''\n",
    "    def fn(x):\n",
    "        return FixedPoint(x,beta,miu)\n",
    "    \n",
    "    s = fsolve(fn,[0.5])\n",
    "    return s[0]\n",
    "    \n",
    "def ConsFuncSol(beta,miu):\n",
    "    '''\n",
    "    Numerical solution of consistency equations\n",
    "    '''\n",
    "    def func(ms):\n",
    "        return ConsFunc(ms,beta,miu)\n",
    "\n",
    "    init = [0.7, 0.2]\n",
    "    if h < 0:\n",
    "        init = [-0.7, -0.2]\n",
    "    sols = fsolve(func,init)\n",
    "    \n",
    "    return sols[0], sols[1]"
   ]
  },
  {
   "cell_type": "code",
   "execution_count": 11,
   "metadata": {},
   "outputs": [],
   "source": [
    "Ts = np.linspace(0.01,1.5,num = 8000)\n",
    "\n",
    "ms = {1: [],\n",
    "      2: [],\n",
    "      3: []}\n",
    "\n",
    "ns = {1 : [],\n",
    "      3 : [],\n",
    "      2 : []}\n",
    "\n",
    "mus = [0.0, -0.7, -10.0]\n",
    "\n",
    "counter = 1\n",
    "for mu in mus:\n",
    "    for T in Ts:\n",
    "        m, n = ConsFuncSol(1.0/T,mu)\n",
    "        ms[counter].append(abs(m))\n",
    "        ns[counter].append(abs(n))\n",
    "    counter += 1"
   ]
  },
  {
   "cell_type": "code",
   "execution_count": 12,
   "metadata": {},
   "outputs": [],
   "source": [
    "# Save plot\n",
    "save_ = True"
   ]
  },
  {
   "cell_type": "code",
   "execution_count": 13,
   "metadata": {},
   "outputs": [
    {
     "data": {
      "image/png": "[encoded data removed]",
      "text/plain": [
       "<Figure size 432x288 with 1 Axes>"
      ]
     },
     "metadata": {
      "needs_background": "light"
     },
     "output_type": "display_data"
    }
   ],
   "source": [
    "plt.plot(Ts,ms[1],linewidth = 2.0,color = 'k',label = r'$\\mu = 0.0$')\n",
    "plt.plot(Ts,ms[2],linewidth = 2.0,color = 'b',label = r'$\\mu = -0.7$')\n",
    "plt.plot(Ts,ms[3],linewidth = 2.0,color = 'r',label = r'$\\mu = -10.0$')\n",
    "plt.xlim([0.0,1.5])\n",
    "plt.ylim([0.0,1.05])\n",
    "plt.title(r'\\textbf{Mean Field Order Parameter For Stoichiometric Alloy}')\n",
    "plt.xlabel(r'$k_B T / Jz$',fontsize = 15)\n",
    "plt.ylabel(r'$m$',fontsize = 15)\n",
    "plt.legend(fontsize = 15)\n",
    "if save_:\n",
    "    plt.savefig('Figures/MeanFieldMags.pdf')\n",
    "    plt.savefig('Figures/MeanFieldMags.png')\n",
    "plt.show()"
   ]
  },
  {
   "cell_type": "markdown",
   "metadata": {},
   "source": [
    "## Computation of Critical Curve in $h - T$ Plane\n",
    "\n",
    "By considering the system of consistency equations near $m = 0$, $n = n_0$, I derived the following implicit equation for the critical curve\n",
    "\n",
    "$$f'(h-n)|_{n = n_0} = 1$$\n",
    "\n",
    "Solving this equation analytically is not convinient since $f$ is not a particularly simple function. However, I will solve it numerically for fixed $\\mu$. It must be that in the limit $\\mu \\rightarrow -\\infty$, the results from Porta and Castán are recovered. \n",
    "\n",
    "By now, I shall consider some limit cases of the curve. If $h = 0$, the results reduce to that of Blume, Emery and Griffiths. Critical temperature depends on chemical potential $\\mu$, and if\n",
    "\n",
    "$$\\mu \\rightarrow -\\infty, T_c \\rightarrow 1$$ \n",
    "\n",
    "On the other hand, if $T_c \\rightarrow 0$, the system tends to the all-parallel spin state. The minimum energy is\n",
    "\n",
    "$$E_{min} = -N/2 + \\mu N$$\n",
    "\n",
    "On the other hand, If the field is intense enough, the energy might be lowered if the system transits to an staggered spin configuration, i .e. all spins antiparallel. The boundary of this transition is such that\n",
    "\n",
    "$$h_c(T_c = 0) = 1$$\n",
    "\n",
    "**Important**: Unit energy is $Jz$ and unit entropy is $k_B$."
   ]
  },
  {
   "cell_type": "code",
   "execution_count": 14,
   "metadata": {},
   "outputs": [],
   "source": [
    "mu = 0.00\n",
    "\n",
    "def f(x, beta, field, miu):\n",
    "    '''\n",
    "    Function that appears everywhere on calculations\n",
    "    '''\n",
    "    return 2*np.sinh(beta*(field-x))/(np.exp(beta*miu) + 2*np.cosh(beta*(field-x)))\n",
    "\n",
    "def fp(x, beta, field, miu):\n",
    "    '''\n",
    "    Derivative that appears on critical curve\n",
    "    '''\n",
    "    return beta * (2*np.cosh(beta*(field-x))/(np.exp(beta*miu) + 2*np.cosh(beta*(field-x))) - f(x, beta, field, miu)**2)\n",
    "\n",
    "def FixedPoint(x,beta,field,miu):\n",
    "    '''\n",
    "    Function for computing equilibrium atom concentration\n",
    "    '''\n",
    "    return x - f(x,beta,field,miu)\n",
    "\n",
    "def Func(beta, field, miu):\n",
    "    def root(x):\n",
    "        return FixedPoint(x,beta,field,miu)\n",
    "    s = fsolve(root,[0.1])\n",
    "    return s[0]\n",
    "\n",
    "def CritField(beta,miu):\n",
    "    def CostFunc(field):\n",
    "        n = Func(beta, field, miu)\n",
    "        return fp(n,beta,field,miu) - 1\n",
    "    seed = [1 - 1.0/beta]\n",
    "    if beta >= 1:\n",
    "        seed = [0.01]\n",
    "    fld = fsolve(CostFunc,seed)\n",
    "    return fld[0]\n",
    "\n",
    "def ZeroFieldBeta(miu):\n",
    "    def Cf(beta):\n",
    "        return beta/(1 + 0.5*np.exp(beta*miu)) - 1\n",
    "    seed = [0.5]\n",
    "    b = fsolve(Cf,seed)\n",
    "    return b[0]"
   ]
  },
  {
   "cell_type": "code",
   "execution_count": 15,
   "metadata": {},
   "outputs": [],
   "source": [
    "hs = {1: [],\n",
    "      2: [],\n",
    "      3: []}\n",
    "\n",
    "mus = [0.0, -0.7, -10.0]\n",
    "\n",
    "Ts = {\n",
    "    1 : np.linspace(0.005,1.0/ZeroFieldBeta(mus[0]),num = 8000),\n",
    "    2 : np.linspace(0.005,1.0/ZeroFieldBeta(mus[1]),num = 8000),\n",
    "    3 : np.linspace(0.005,1.0/ZeroFieldBeta(mus[2]),num = 8000)\n",
    "    }\n",
    "\n",
    "counter = 1\n",
    "for miu in mus:\n",
    "    for T in Ts[counter]:\n",
    "        h = CritField(1.0/T,miu)\n",
    "        hs[counter].append(abs(h))\n",
    "    counter += 1"
   ]
  },
  {
   "cell_type": "code",
   "execution_count": 22,
   "metadata": {},
   "outputs": [],
   "source": [
    "# Save figure\n",
    "save_ = True"
   ]
  },
  {
   "cell_type": "code",
   "execution_count": 23,
   "metadata": {},
   "outputs": [
    {
     "data": {
      "image/png": "[encoded data removed]",
      "text/plain": [
       "<Figure size 432x288 with 1 Axes>"
      ]
     },
     "metadata": {
      "needs_background": "light"
     },
     "output_type": "display_data"
    }
   ],
   "source": [
    "plt.plot(Ts[1],hs[1],linewidth = 2.0,color = 'k',label = r'$\\mu = 0.0$')\n",
    "plt.plot(Ts[2],hs[2],linewidth = 2.0,color = 'b',label = r'$\\mu = -0.7$')\n",
    "plt.plot(Ts[3],hs[3],linewidth = 2.0,color = 'r',label = r'$\\mu = -10.0$')\n",
    "plt.xlim([0.0,1.6])\n",
    "plt.ylim([0.0,1.25])\n",
    "plt.title(r'\\textbf{Mean Field Critical Curves on} $h-T$ \\textbf{Plane}')\n",
    "plt.xlabel(r'$k_B T / Jz$',fontsize = 15)\n",
    "plt.ylabel(r'$h / Jz$',fontsize = 15)\n",
    "plt.legend(fontsize = 15)\n",
    "if save_:\n",
    "    plt.savefig('Figures/MeanFieldCritCurveshT.pdf')\n",
    "    plt.savefig('Figures/MeanFieldCritcurveshT.png')\n",
    "plt.show()"
   ]
  },
  {
   "cell_type": "markdown",
   "metadata": {},
   "source": [
    "## Computation of Critical Curve in $x - T$ Plane\n",
    "\n",
    "Note that the parameter\n",
    "\n",
    "$$n = \\frac{m_A - m_B}{2}$$\n",
    "\n",
    "Is directly related to concentration difference between A type atoms and B type atoms. Also note that\n",
    "\n",
    "$$q_A + q_B$$\n",
    "\n",
    "Is directly related to vacancy concentration. I shall define\n",
    "\n",
    "$$2x - 1 = \\frac{N_A - N_B}{N} = n$$\n",
    "\n",
    "In the limit of low vacancy concentration, $x$ is directly related to atom concentration. I need to compute $n$ on the critical line of order-disorder transitions on plane $h-T$, and this would directly lead to a critical curve on $x - T$ plane.\n",
    "\n",
    "**Important**: Unit energy is $Jz$ and unit entropy is $k_B$."
   ]
  },
  {
   "cell_type": "code",
   "execution_count": 18,
   "metadata": {},
   "outputs": [],
   "source": [
    "def conc(beta,h,miu):\n",
    "    return (Func(beta,h,miu) + 1)*0.5"
   ]
  },
  {
   "cell_type": "code",
   "execution_count": 19,
   "metadata": {},
   "outputs": [],
   "source": [
    "xs = {1: [],\n",
    "      2: [],\n",
    "      3: []}\n",
    "\n",
    "counter = 1\n",
    "for miu in mus:\n",
    "    for T,h in zip(Ts[counter], hs[counter]):\n",
    "        c = conc(1.0/T,h,miu)\n",
    "        xs[counter].append(abs(c))\n",
    "    counter += 1"
   ]
  },
  {
   "cell_type": "code",
   "execution_count": 24,
   "metadata": {},
   "outputs": [],
   "source": [
    "# Save figure\n",
    "save_ = True"
   ]
  },
  {
   "cell_type": "code",
   "execution_count": 25,
   "metadata": {},
   "outputs": [
    {
     "data": {
      "image/png": "[encoded data removed]",
      "text/plain": [
       "<Figure size 432x288 with 1 Axes>"
      ]
     },
     "metadata": {
      "needs_background": "light"
     },
     "output_type": "display_data"
    }
   ],
   "source": [
    "fig = plt.figure()\n",
    "ax = fig.add_subplot(111)\n",
    "plt.xlim([0.0,1.1])\n",
    "plt.ylim([0.5,1.1])\n",
    "ax.plot(Ts[1],xs[1],linewidth = 2.0,color = 'k',label = r'$\\mu = 0.0$')\n",
    "ax.plot(Ts[2],xs[2],linewidth = 2.0,color = 'b',label = r'$\\mu = -0.7$')\n",
    "ax.plot(Ts[3],xs[3],linewidth = 2.0,color = 'r',label = r'$\\mu = -10.0$')\n",
    "ax.set_aspect(aspect = 1.7)\n",
    "plt.title(r'\\textbf{Mean Field Critical Curves on} $x-T$ \\textbf{Plane}')\n",
    "plt.xlabel(r'$k_B T / Jz$',fontsize = 15)\n",
    "plt.ylabel(r'$x$',fontsize = 15)\n",
    "plt.legend(fontsize = 12)\n",
    "if save_:\n",
    "    plt.savefig('Figures/MeanFieldCritCurvesxT.pdf')\n",
    "    plt.savefig('Figures/MeanFieldCritcurvesxT.png')\n",
    "plt.show()"
   ]
  },
  {
   "cell_type": "markdown",
   "metadata": {},
   "source": [
    "# Data Processing Of MCMC Simulation Data from Binary Alloy\n",
    "\n",
    "The main objective of this notebook is to document and illustrate all data analysis for determination of critical temperatures and graphics generation for my Theoretical Investigations Project. I have already determined mean field critical curves for the BEG model, and in this notebook I set out to:\n",
    "\n",
    "1. Produce Order Parameter profiles for several values of vancy and atom chemical potential difference.\n",
    "1. Compute critical temperatures for several Lattice sizes and vacancy - atom chemical potential difference.\n",
    "1. Use finite size scaling to determine a set of critical points in $h - T$ phase space projection.\n",
    "\n",
    "**Note:** During the development of this phase of the project, I updated my PC to MacOs Big Sur. This had the unexpected effect of slowing python scripts. As a result, I resorted to using an Azure server with 2 vcpus and 8GB of RAM. Most of the data used in this project was generated on that server. It took about 2 weeks of computation to generate order parameter data for all lattice sizes. I had parallelised routines to fasten computation of magnetisation profiles, they were pointless on my Azure server since it has only 2 vcpus."
   ]
  },
  {
   "cell_type": "markdown",
   "metadata": {},
   "source": [
    "## Order Parameter Profiles for Different Lattice Sizes and Chemical Potential Differences\n",
    "\n",
    "Remember that the sampled Hamiltonian corresponds to a ferromagnetic BEG Model, on a centered rectangular lattice, with a non-zero quadrtupolar anisotropy term, in the presence of an staggered external magnetic field:\n",
    "\n",
    "$$H = -\\frac{J}{2} \\sum\\limits_{\\langle i_{A_2}, j_{B_2}\\rangle} S_{i_{A_2}} S_{j_{B_2}} + \\mu\\sum\\limits_{i} S_i^2 + h\\sum\\limits_{i_B} S_{i_B} - h\\sum\\limits_{i_A} S_{i_A}$$\n",
    "\n",
    "I used conventional MCMC (Markov Chain Monte Carlo) to sample the Gibbs-Boltzman distribution corresponding to this system. Just to remember, the system under study is a bipartite, substitutional, non-stoichiometric, binary alloy. I used MCMC techniques to compute equilibrium values of order parameter:\n",
    "\n",
    "$$m = \\langle S_{i_{A_2}} \\rangle + \\langle S_{i_{B_2}}\\rangle$$\n",
    "\n",
    "I know that order parameter profile depends not only on temperature, but also on lattice size. Therefore, I computed several datasets corresponding to different values of $\\mu$, $h$, temperature ($T$) and lattice size ($L$). I normalised unit energies so that $J = 1$, and units of entropy so that Boltzman's constant, $k_B = 1$.\n",
    "\n",
    "Each dataset corresponds to magnetisation for 30 equaly spaced temperatures between $T_{\\text{min}}=0.05$ and $T_{\\text{max}} = 3.5$. I computed magnetisation profiles for values $\\mu = 0.0, -1.7$ and $h = 0.0, 0.1, 0.3, 0.5$. Datasets correpsonds to lattice sizes $L = 8, 16, 32, 55$. The dataset files are saved as csv, and the names are **AltL_Mags_mu_h.csv**, in accordance to the following convention:\n",
    "\n",
    "| Index | $L$ | $\\mu$ | $h$ |\n",
    "|:-----:|:---:|:-----:|:---:|\n",
    "|  $0$  | $55$|  $0$  |$0.0$|\n",
    "|  $1$  | $8$ | $-1.7$|$0.1$|\n",
    "|  $2$  | $16$|   -   |$0.3$|\n",
    "|  $3$  | $32$|   -   |$0.5$|\n",
    "|  $4$  | $11$|   -   |  -  |\n",
    "\n",
    "**Important:** MCMC Simulations consisted on 15000 steps, with 5000 spare steps."
   ]
  },
  {
   "cell_type": "code",
   "execution_count": 125,
   "metadata": {},
   "outputs": [],
   "source": [
    "# Define keys for plotting\n",
    "Lkey = [55,8,16,32,11]\n",
    "Mukey = [0.0,-1.7]\n",
    "hkey = [0.0,0.1,0.3,0.5]"
   ]
  },
  {
   "cell_type": "code",
   "execution_count": 211,
   "metadata": {},
   "outputs": [],
   "source": [
    "# Read all data files corresponding to indexes following table above and store data for plotting\n",
    "Muidx = '0'\n",
    "hidx = '0'\n",
    "save_ = False"
   ]
  },
  {
   "cell_type": "code",
   "execution_count": 212,
   "metadata": {},
   "outputs": [
    {
     "data": {
      "image/png": "[encoded data removed]",
      "text/plain": [
       "<Figure size 432x288 with 1 Axes>"
      ]
     },
     "metadata": {
      "needs_background": "light"
     },
     "output_type": "display_data"
    }
   ],
   "source": [
    "for i in range(5):\n",
    "    # Reading with pandas\n",
    "    filepath = 'Data/Alt'+str(i)+'_'+'Mags_'+Muidx+'_'+hidx+'.csv'\n",
    "    dataset = pd.read_csv(filepath)\n",
    "    # Generate scatter plot\n",
    "    plt.scatter(dataset['Temps'],dataset['Mags'],label=r'$L=$'+str(Lkey[i]))\n",
    "plt.xlabel(r'$k_BT/J$')\n",
    "plt.ylabel(r'$\\langle |M| \\rangle$')\n",
    "plt.title(r'Order Parameter Profile: '+r'$\\mu=$ '+str(Mukey[int(Muidx)])+r', $h=$ '+str(hkey[int(hidx)]))\n",
    "plt.legend()\n",
    "if save_:\n",
    "    plt.savefig('Figures/'+'MagsProf_'+Muidx+'_'+hidx+'.pdf')\n",
    "    plt.savefig('Figures/'+'MagsProf_'+Muidx+'_'+hidx+'.png')\n",
    "plt.show()"
   ]
  },
  {
   "cell_type": "markdown",
   "metadata": {},
   "source": [
    "In the above cell, a quick overview of the datasets simulated via MCMC can be obtained. A quite unexpected magnetisation profile was obtained when $h > 0$. Although the curve seems to have a critical point, lattice size does not seem to affect the equilibrium magnetisation. This is rather weird, since at a critical point, correlation length diverges, and the finitness of the system should affect the magnetisation profile. As is evident from the Hamiltonian, the value of $\\mu$, which is related to vacancy concentration, is not resposible for this behavior. The presence of a non-zero staggered field causes a a non-zero order parameter even at high temperatures. This is readily seen from a magnetic interpretation of the interaction Hamiltonian. Also, remembering that the order parameter is also related to atom concentration difference, this can be intuited.\n",
    "\n",
    "**Conjecture:** It might be possible that for high staggered field magnitude, this phenomenon competes strongly with the inherent lattice site correlation, thus diminishing significantly the dependence of the order parameter profile with lattice size."
   ]
  },
  {
   "cell_type": "markdown",
   "metadata": {},
   "source": [
    "## Computation of critical temperatures\n",
    "\n",
    "I compute critical temperatures by interpolating order parameter data, and computing the inflection point. Although my simulations showed rather strange profiles for non stoichiometric alloys, the still present an inflection point, which I will use to estimate critical temperature. I will, however, use finte size scaling to determine the actual critical temperature of a stoichiometric binary alloy for the values of $\\mu$ considered."
   ]
  },
  {
   "cell_type": "markdown",
   "metadata": {},
   "source": [
    "### Data Interoplation\n",
    "\n",
    "I chose the function\n",
    "\n",
    "$$f(x) = A \\tanh(C-Dx)+B$$\n",
    "\n",
    "To interpolate the order parameter data. Although this function might not be the best for this purpose, it allows easy estimation of critical temperature as\n",
    "\n",
    "$$T_C(L) = \\frac{C}{D}$$\n",
    "\n",
    "In the next cell, I plot inverse critical temperature as funciton of inverse lattice size following Ibarra and others' work.\n",
    "\n",
    "**Important:** Spin-1 Ising Models do not have a closed form for order parameter as function of temperature, like Onsager's solution to the Spin-1/2 Ising model on 2 dimensions. Ibarra proposes a fit of the type\n",
    "\n",
    "$$m = \\bigg[A - B \\bigg(\\sinh\\bigg(\\frac{2}{T}\\bigg)\\bigg)^{-4}\\bigg]^C$$\n",
    "\n",
    "But this is valid only for temperatures below $T_C$, which I want to find. Therefore, it is not a very good option for fitting the data."
   ]
  },
  {
   "cell_type": "code",
   "execution_count": 20,
   "metadata": {},
   "outputs": [],
   "source": [
    "# Interpolation Function\n",
    "def magsFit(x,A,B,C,D):\n",
    "    return A*np.tanh(C-D*x)+B"
   ]
  },
  {
   "cell_type": "code",
   "execution_count": 151,
   "metadata": {},
   "outputs": [],
   "source": [
    "# Indexes for reading data\n",
    "Muidx = '0'\n",
    "hidx = '3'\n",
    "Lidx = '3'\n",
    "# Tag to tell program if saving plots\n",
    "save_ = False"
   ]
  },
  {
   "cell_type": "code",
   "execution_count": 153,
   "metadata": {},
   "outputs": [
    {
     "data": {
      "image/png": "[encoded data removed]",
      "text/plain": [
       "<Figure size 432x288 with 1 Axes>"
      ]
     },
     "metadata": {
      "needs_background": "light"
     },
     "output_type": "display_data"
    }
   ],
   "source": [
    "# Reading with pandas\n",
    "filepath = 'Data/Alt'+Lidx+'_'+'Mags_'+Muidx+'_'+hidx+'.csv'\n",
    "dataset = pd.read_csv(filepath)\n",
    "# Interpolate using scipy\n",
    "fitparams, covmat = curve_fit(\\\n",
    "        magsFit,dataset['Temps'],dataset['Mags'],\\\n",
    "        bounds=(0,[50.0,50.0,50.0,50.0]))\n",
    "# Plot Interpolation and dataset\n",
    "x = np.linspace(0.05,3.5,num=300)\n",
    "y = magsFit(x,*fitparams)\n",
    "plt.scatter(dataset['Temps'],dataset['Mags'],label=r'$L=$ '+str(Lkey[int(Lidx)]))\n",
    "plt.plot(x,y,color='r')\n",
    "plt.xlabel(r'$k_BT/J$')\n",
    "plt.ylabel(r'$\\langle |M| \\rangle$')\n",
    "plt.title(\\\n",
    "    r'Order Parameter Fitting'+'\\n'+r'$\\mu = $ '+str(Mukey[int(Muidx)])+' , '+r'$h = $ '+str(hkey[int(hidx)]))\n",
    "plt.legend()\n",
    "if save_:\n",
    "    plt.savefig('Figures/'+'Fit'+Lidx+'_'+Muidx+'_'+hidx+'.pdf')\n",
    "    plt.savefig('Figures/'+'Fit'+Lidx+'_'+Muidx+'_'+hidx+'.png')\n",
    "plt.show()"
   ]
  },
  {
   "cell_type": "markdown",
   "metadata": {},
   "source": [
    "### Finite Size Scaling\n",
    "\n",
    "Although the non linear fit is not the best, specially for stoichiometric alloys, I believe this is the best way I can find to compromise MCMC simualtion time and precision in critical temperature computation. More in depht calculations should require use of reweighting techniques, and several dataset evaluations in order to compute mean order parameter profiles with appropriate error bars. However, due to time constraints, and a miscalculation of the time required for the analytical component of this project, I use this procedure to estimate critical temperature for an inifinite lattice."
   ]
  },
  {
   "cell_type": "code",
   "execution_count": 207,
   "metadata": {},
   "outputs": [],
   "source": [
    "# Fix fields values\n",
    "Muidx = '1'\n",
    "hidx = '3'\n",
    "# Tag to tell program if saving plots\n",
    "save_ = True"
   ]
  },
  {
   "cell_type": "code",
   "execution_count": 208,
   "metadata": {},
   "outputs": [
    {
     "data": {
      "image/png": "[encoded data removed]",
      "text/plain": [
       "<Figure size 432x288 with 1 Axes>"
      ]
     },
     "metadata": {
      "needs_background": "light"
     },
     "output_type": "display_data"
    },
    {
     "name": "stdout",
     "output_type": "stream",
     "text": [
      "T_c =  1.8442192457749043\n"
     ]
    }
   ],
   "source": [
    "Tcs = [0,0,0,0,0]\n",
    "# Reading with pandas\n",
    "for Lidx in range(5):\n",
    "    filepath = 'Data/Alt'+str(Lidx)+'_'+'Mags_'+Muidx+'_'+hidx+'.csv'\n",
    "    dataset = pd.read_csv(filepath)\n",
    "    # Eliminate first point since it was an outsider for L = 32\n",
    "    m = dataset['Mags'][1:]\n",
    "    T = dataset['Temps'][1:]\n",
    "    # Interpolate using scipy\n",
    "    fitparams, covmat = curve_fit(\\\n",
    "        magsFit,T,m,\\\n",
    "        bounds=(0,[50.0,50.0,50.0,50.0]))\n",
    "    # Compute critical temperature\n",
    "    Tcs[Lidx] = fitparams[2]/fitparams[3]\n",
    "\n",
    "# Perform linear fit to find critical temperature\n",
    "Bc = 1/np.array(Tcs)\n",
    "Linv = 1/np.array(Lkey)\n",
    "slope, intercept, _, _, _ = linregress(Linv,Bc)\n",
    "Lsint = np.linspace(0.01,0.13,num=200)\n",
    "Bcint = slope*Lsint + intercept\n",
    "\n",
    "# Plot Critical Temperatures \n",
    "plt.scatter(Linv,Bc)\n",
    "plt.plot(Lsint,Bcint,color='r')\n",
    "plt.xlabel(r'$L^{-1}$')\n",
    "plt.ylabel(r'$T_C^{-1}$')\n",
    "plt.text(0.06,np.amax(Bc),r'$T_C = $'+'{:.2f}'.format(1/intercept))\n",
    "plt.title(r'Finite Size scaling'+'\\n'+r'$\\mu = $ '+str(Mukey[int(Muidx)])+' , '+r'$h = $ '+str(hkey[int(hidx)]))\n",
    "if save_:\n",
    "    plt.savefig('Figures/'+'FiniteSize_'+Muidx+'_'+hidx+'.pdf')\n",
    "    plt.savefig('Figures/'+'FiniteSize_'+Muidx+'_'+hidx+'.png')\n",
    "plt.show()\n",
    "print(r'T_c = ',1/intercept)"
   ]
  },
  {
   "cell_type": "markdown",
   "metadata": {},
   "source": [
    "As can be seen in the cell above, the finite size sacling technique proposed by Ibarra siuts quite good the critical temperature dependance on lattice size. The linear fit, however is not particularly good for stoichiometric alloys, but this might be doue to the fact that the non linear fit of magnetisation profile is not particularly good for these datasets (*go to Data Interpolation*). I thus proceed to compute a table with all critical temperature data, for different values of external fields."
   ]
  },
  {
   "cell_type": "code",
   "execution_count": 155,
   "metadata": {},
   "outputs": [],
   "source": [
    "def Tcrit(muidx,hidx):\n",
    "    Tcs = [0,0,0,0,0]\n",
    "    # Reading with pandas\n",
    "    for Lidx in range(5):\n",
    "        filepath = 'Data/Alt'+str(Lidx)+'_'+'Mags_'+Muidx+'_'+hidx+'.csv'\n",
    "        dataset = pd.read_csv(filepath)\n",
    "        # Eliminate first point since it was an outsider for L = 32\n",
    "        m = dataset['Mags'][1:]\n",
    "        T = dataset['Temps'][1:]\n",
    "        # Interpolate using scipy\n",
    "        fitparams, covmat = curve_fit(\\\n",
    "            magsFit,T,m,\\\n",
    "            bounds=(0,[50.0,50.0,50.0,50.0]))\n",
    "        # Compute critical temperature\n",
    "        Tcs[Lidx] = fitparams[2]/fitparams[3]\n",
    "\n",
    "    # Perform linear fit to find critical temperature\n",
    "    Bc = 1/np.array(Tcs)\n",
    "    Linv = 1/np.array(Lkey)\n",
    "    slope, intercept, _, _, _ = linregress(Linv,Bc)\n",
    "    return 1/intercept    "
   ]
  },
  {
   "cell_type": "code",
   "execution_count": 172,
   "metadata": {},
   "outputs": [],
   "source": [
    "Muidx = '0'\n",
    "save_ = False"
   ]
  },
  {
   "cell_type": "code",
   "execution_count": 173,
   "metadata": {},
   "outputs": [
    {
     "data": {
      "text/html": [
       "<div>\n",
       "<style scoped>\n",
       "    .dataframe tbody tr th:only-of-type {\n",
       "        vertical-align: middle;\n",
       "    }\n",
       "\n",
       "    .dataframe tbody tr th {\n",
       "        vertical-align: top;\n",
       "    }\n",
       "\n",
       "    .dataframe thead th {\n",
       "        text-align: right;\n",
       "    }\n",
       "</style>\n",
       "<table border=\"1\" class=\"dataframe\">\n",
       "  <thead>\n",
       "    <tr style=\"text-align: right;\">\n",
       "      <th></th>\n",
       "      <th>h</th>\n",
       "      <th>Tcrit</th>\n",
       "    </tr>\n",
       "  </thead>\n",
       "  <tbody>\n",
       "    <tr>\n",
       "      <th>0</th>\n",
       "      <td>0.0</td>\n",
       "      <td>0.808997</td>\n",
       "    </tr>\n",
       "    <tr>\n",
       "      <th>1</th>\n",
       "      <td>0.1</td>\n",
       "      <td>1.083204</td>\n",
       "    </tr>\n",
       "    <tr>\n",
       "      <th>2</th>\n",
       "      <td>0.3</td>\n",
       "      <td>1.317169</td>\n",
       "    </tr>\n",
       "    <tr>\n",
       "      <th>3</th>\n",
       "      <td>0.5</td>\n",
       "      <td>1.495747</td>\n",
       "    </tr>\n",
       "  </tbody>\n",
       "</table>\n",
       "</div>"
      ],
      "text/plain": [
       "     h     Tcrit\n",
       "0  0.0  0.808997\n",
       "1  0.1  1.083204\n",
       "2  0.3  1.317169\n",
       "3  0.5  1.495747"
      ]
     },
     "metadata": {},
     "output_type": "display_data"
    }
   ],
   "source": [
    "Ts = []\n",
    "h = []\n",
    "# Compute critical temperatures\n",
    "for hidx in ['0','1','2','3']:\n",
    "    h.append(hkey[int(hidx)])\n",
    "    Ts.append(Tcrit(Muidx,hidx))\n",
    "# Create dictionary previous to dataframe\n",
    "data = {\n",
    "    'h':h,\n",
    "    'Tcrit':Ts\n",
    "       }\n",
    "# Create dataframe\n",
    "data = pd.DataFrame.from_dict(data)\n",
    "if save_:\n",
    "    filepath = 'Data/CritTemps'+Muidx+'.csv'\n",
    "    data.to_csv(filepath,index=False,header=True)\n",
    "# Display Critical temperatures\n",
    "display(data)"
   ]
  },
  {
   "cell_type": "markdown",
   "metadata": {},
   "source": [
    "## Final Results\n",
    "\n",
    "After performing linear regressions from finite size scaling, I obtained the following critical temperatures for $\\mu = 0$:\n",
    "\n",
    "| $h$ | $T_C$ |\n",
    "|:---:|:-----:|\n",
    "|$0.0$|$0.809$|\n",
    "|$0.1$|$1.083$|\n",
    "|$0.3$|$1.317$|\n",
    "|$0.5$|$1.496$|\n",
    "\n",
    "And the following for $\\mu = -1.7$\n",
    "\n",
    "| $h$ | $T_C$ |\n",
    "|:---:|:-----:|\n",
    "|$0.0$|$1.044$|\n",
    "|$0.1$|$1.362$|\n",
    "|$0.3$|$1.644$|\n",
    "|$0.5$|$1.844$|\n",
    "\n",
    "These are astonishing results that were not expected from mean field calculations."
   ]
  }
 ],
 "metadata": {
  "kernelspec": {
   "display_name": "Python 3",
   "language": "python",
   "name": "python3"
  },
  "language_info": {
   "codemirror_mode": {
    "name": "ipython",
    "version": 3
   },
   "file_extension": ".py",
   "mimetype": "text/x-python",
   "name": "python",
   "nbconvert_exporter": "python",
   "pygments_lexer": "ipython3",
   "version": "3.8.3"
  }
 },
 "nbformat": 4,
 "nbformat_minor": 4
}
